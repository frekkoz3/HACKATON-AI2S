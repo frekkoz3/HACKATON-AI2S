{
 "cells": [
  {
   "cell_type": "code",
   "execution_count": 10,
   "id": "f9df4c09",
   "metadata": {},
   "outputs": [],
   "source": [
    "import pandas as pd\n",
    "import numpy as np"
   ]
  },
  {
   "cell_type": "code",
   "execution_count": 11,
   "id": "8249d94d",
   "metadata": {},
   "outputs": [],
   "source": [
    "reference = pd.read_csv(filepath_or_buffer=r\"data\\01_output_prediction_example.csv\")"
   ]
  },
  {
   "cell_type": "code",
   "execution_count": 12,
   "id": "a6a2baf9",
   "metadata": {},
   "outputs": [
    {
     "data": {
      "application/vnd.microsoft.datawrangler.viewer.v0+json": {
       "columns": [
        {
         "name": "index",
         "rawType": "int64",
         "type": "integer"
        },
        {
         "name": "Country",
         "rawType": "object",
         "type": "string"
        },
        {
         "name": "Product",
         "rawType": "object",
         "type": "string"
        },
        {
         "name": "Month",
         "rawType": "object",
         "type": "string"
        },
        {
         "name": "Quantity",
         "rawType": "int64",
         "type": "integer"
        }
       ],
       "conversionMethod": "pd.DataFrame",
       "ref": "2759a21c-6f66-47cd-be6d-962aa13aea9c",
       "rows": [
        [
         "0",
         "Japan",
         "MorningMint",
         "Jan2004",
         "0"
        ],
        [
         "1",
         "Japan",
         "MorningMint",
         "Feb2004",
         "0"
        ],
        [
         "2",
         "Japan",
         "MorningMint",
         "Mar2004",
         "0"
        ],
        [
         "3",
         "Japan",
         "MorningMint",
         "Apr2004",
         "0"
        ],
        [
         "4",
         "Japan",
         "MorningMint",
         "May2004",
         "0"
        ]
       ],
       "shape": {
        "columns": 4,
        "rows": 5
       }
      },
      "text/html": [
       "<div>\n",
       "<style scoped>\n",
       "    .dataframe tbody tr th:only-of-type {\n",
       "        vertical-align: middle;\n",
       "    }\n",
       "\n",
       "    .dataframe tbody tr th {\n",
       "        vertical-align: top;\n",
       "    }\n",
       "\n",
       "    .dataframe thead th {\n",
       "        text-align: right;\n",
       "    }\n",
       "</style>\n",
       "<table border=\"1\" class=\"dataframe\">\n",
       "  <thead>\n",
       "    <tr style=\"text-align: right;\">\n",
       "      <th></th>\n",
       "      <th>Country</th>\n",
       "      <th>Product</th>\n",
       "      <th>Month</th>\n",
       "      <th>Quantity</th>\n",
       "    </tr>\n",
       "  </thead>\n",
       "  <tbody>\n",
       "    <tr>\n",
       "      <th>0</th>\n",
       "      <td>Japan</td>\n",
       "      <td>MorningMint</td>\n",
       "      <td>Jan2004</td>\n",
       "      <td>0</td>\n",
       "    </tr>\n",
       "    <tr>\n",
       "      <th>1</th>\n",
       "      <td>Japan</td>\n",
       "      <td>MorningMint</td>\n",
       "      <td>Feb2004</td>\n",
       "      <td>0</td>\n",
       "    </tr>\n",
       "    <tr>\n",
       "      <th>2</th>\n",
       "      <td>Japan</td>\n",
       "      <td>MorningMint</td>\n",
       "      <td>Mar2004</td>\n",
       "      <td>0</td>\n",
       "    </tr>\n",
       "    <tr>\n",
       "      <th>3</th>\n",
       "      <td>Japan</td>\n",
       "      <td>MorningMint</td>\n",
       "      <td>Apr2004</td>\n",
       "      <td>0</td>\n",
       "    </tr>\n",
       "    <tr>\n",
       "      <th>4</th>\n",
       "      <td>Japan</td>\n",
       "      <td>MorningMint</td>\n",
       "      <td>May2004</td>\n",
       "      <td>0</td>\n",
       "    </tr>\n",
       "  </tbody>\n",
       "</table>\n",
       "</div>"
      ],
      "text/plain": [
       "  Country      Product    Month  Quantity\n",
       "0   Japan  MorningMint  Jan2004         0\n",
       "1   Japan  MorningMint  Feb2004         0\n",
       "2   Japan  MorningMint  Mar2004         0\n",
       "3   Japan  MorningMint  Apr2004         0\n",
       "4   Japan  MorningMint  May2004         0"
      ]
     },
     "execution_count": 12,
     "metadata": {},
     "output_type": "execute_result"
    }
   ],
   "source": [
    "dataframe = pd.read_csv(r\"data\\01_input_history.csv\")\n",
    "dataframe.head()"
   ]
  },
  {
   "cell_type": "code",
   "execution_count": 13,
   "id": "2eb87188",
   "metadata": {},
   "outputs": [],
   "source": [
    "def separate_single_timeseries(df, paese, prodotto):\n",
    "    filtrato = df[(df['Country'] == paese) & (df['Product'] == prodotto)]\n",
    "\n",
    "    filtrato = filtrato.copy()\n",
    "\n",
    "    return filtrato"
   ]
  },
  {
   "cell_type": "code",
   "execution_count": 14,
   "id": "7354c93e",
   "metadata": {},
   "outputs": [],
   "source": [
    "prod = \"FreshStart Toothpaste\"\n",
    "paese = \"Italy\"\n",
    "reduced_dataset = separate_single_timeseries(dataframe, paese, prod)"
   ]
  },
  {
   "cell_type": "code",
   "execution_count": 15,
   "id": "f59a947d",
   "metadata": {},
   "outputs": [
    {
     "data": {
      "text/plain": [
       "240"
      ]
     },
     "execution_count": 15,
     "metadata": {},
     "output_type": "execute_result"
    }
   ],
   "source": [
    "len(reduced_dataset)"
   ]
  },
  {
   "cell_type": "code",
   "execution_count": 25,
   "id": "3e75fc0a",
   "metadata": {},
   "outputs": [
    {
     "data": {
      "text/plain": [
       "(array(['Japan', 'Australia', 'Brazil', 'Egypt', 'Italy', 'South Africa',\n",
       "        'France', 'India', 'United Kingdom', 'Russia'], dtype=object),\n",
       " array(['MorningMint', 'FreshStart Toothpaste',\n",
       "        'SmileShield Whitening Strips', 'BriteBite Toothbrush',\n",
       "        'LuminousLip Care', 'CleanSlate Mouthwash', 'OralEase Gel',\n",
       "        'BreathBliss Mints', 'DentalDefense Toothpaste',\n",
       "        'SparklingSmile Water Flosser', 'FreshFusion Mouth Rinse',\n",
       "        'SmileSavvy Tooth Whitening Kit', 'DailyDazzle Toothpaste',\n",
       "        'MorningBreeze Gum Care', 'OralEase Plus Toothbrush',\n",
       "        'BreatheEasy Inhalant', 'SmilesSoPure Waterpik',\n",
       "        'CleanSmile Floss Picks', 'FreshFix Mouthwash',\n",
       "        'SparklingGlow Toothpaste', 'Purezza Body Wash',\n",
       "        'SkinSational Moisturizer', 'SoftStep Shaving Cream',\n",
       "        'GentleGlow Face Lotion', 'HydraHydrate Hand Cream',\n",
       "        'SilkSmooth Exfoliating Scrub', 'CleanSkin Acne Treatment',\n",
       "        'SunShield SPF 50 Lotion', 'Refreshing Rose Body Oil',\n",
       "        'Calming Creme Relaxant Bath', 'Brightening Body Wash',\n",
       "        'SmoothOperator Shaving Gel', 'RadiantRose Face Mask',\n",
       "        'SoothingSerenity Hand Sanitizer', 'GentleGlow Face Cleanser',\n",
       "        'PurePore Toner', 'SilkySkin Moisturizing Cream',\n",
       "        'MorningMist Deodorant', 'Hydrating Honey Body Lotion',\n",
       "        'Exfoliating Essentials Scrub', 'FreshFusion Detergent',\n",
       "        'CleanSlate Stain Remover', 'SoothingSoft Fabric Softener',\n",
       "        'BrightBreeze Whitening Booster', 'DelicateDew Sensitive Wash',\n",
       "        'SparklingClean All-Purpose Cleaner', 'FreshFold Fabric Refresher',\n",
       "        'RadiantRinse Color Protector', 'EasyWash Laundry Detergent',\n",
       "        'SmellSational Odor Eliminator', 'LittleLullaby Diaper Cream',\n",
       "        'SoothingSerenity Baby Oil', 'CalmingClean Bath Time Wash',\n",
       "        'FreshFusion Diaper Rash Remedy', 'PurePore Baby Lotion',\n",
       "        'SilkySkin Baby Cream', 'GentleGlow Baby Sunscreen',\n",
       "        'BrightBreeze Insect Repellent', 'SoftStep Baby Shampoo',\n",
       "        'RadiantRose Baby Massage Oil',\n",
       "        'EasyWash Laundry Detergent for Babies',\n",
       "        'LittleLullaby Diaper Liners', 'SoothingSerenity Baby Rub',\n",
       "        'CalmingClean Diaper Rash Cream', 'FreshFusion Baby Wipes',\n",
       "        'PurePore Baby Skincare Set', 'SilkySkin Baby Moisturizer',\n",
       "        'GentleGlow Baby Face Wash', 'BrightBreeze Baby Sunscreen Stick',\n",
       "        'SmellSational Baby Room Spray', 'LuminousLocks Shampoo',\n",
       "        'SilkSmooth Conditioner', 'FreshFusion Hair Mask',\n",
       "        'RadiantRose Hair Serum', 'SoothingSerenity Scalp Treatment',\n",
       "        'CleanSlate Feminine Deodorant', 'BrightBreeze Period Pain Relief',\n",
       "        'PurePore Sanitary Belt', 'SmellSational Intimate Spray',\n",
       "        'SoftStep Shaving Cream for Women',\n",
       "        'FreshFusion All-Purpose Cleaner', 'CleanSlate Disinfectant Spray',\n",
       "        'SoothingSerenity Air Freshener', 'BrightBreeze Window Cleaner',\n",
       "        'GentleGlow Dish Soap', 'RadiantRose Glass Cleaner',\n",
       "        'PurePore Insect Repellent Spray',\n",
       "        'EasyWash Laundry Detergent for Delicates',\n",
       "        'CalmingClean Trash Bags', 'SoothingSerenity Humidifier',\n",
       "        'PurePaw Dog Shampoo', 'SoothingPaws Cat Lotion',\n",
       "        'RadiantRover Pet Conditioner', 'FreshFusion Flea and Tick Spray',\n",
       "        'GentleGlow Pet Grooming Kit', 'BrightBreeze Pet Odor Eliminator',\n",
       "        'EasyWash Pet Laundry Detergent', 'SmellSational Pet Deodorizer',\n",
       "        'CalmingClean Dog Brush', 'HydratingHoney Pet Wipes'], dtype=object))"
      ]
     },
     "execution_count": 25,
     "metadata": {},
     "output_type": "execute_result"
    }
   ],
   "source": [
    "unique_countries = dataframe[\"Country\"].unique()\n",
    "unique_prods = dataframe[\"Product\"].unique()\n",
    "\n",
    "\n",
    "unique_countries, unique_prods"
   ]
  },
  {
   "cell_type": "code",
   "execution_count": 18,
   "id": "b7b4a8a1",
   "metadata": {},
   "outputs": [],
   "source": [
    "prod = \"FreshStart Toothpaste\"\n",
    "paese = \"Italy\"\n",
    "\n",
    "t_stamps = range(1, 241)\n",
    "reduced_dataset = separate_single_timeseries(dataframe, paese, prod)\n",
    "reduced_dataset[\"t_stamp\"] = range(1, 241)\n",
    "\n",
    "x_train = reduced_dataset[\"t_stamp\"].to_numpy().reshape(-1, 1)  # shape: (240, 1)\n",
    "y_train = reduced_dataset[\"Quantity\"].to_numpy()                # shape: (240,)\n",
    "\n",
    "\n",
    "x_pred = np.array(range(241, 241 + 12)).reshape(-1, 1)          # shape: (12, 1)\n",
    "\n",
    "d_tree = tree.DecisionTreeRegressor()\n",
    "d_tree.fit(x_train, y_train)\n",
    "\n",
    "predictions = d_tree.predict(x_pred)\n",
    "\n",
    "\n",
    "records = [\"Jan2024\", \"Feb2024\", \"Mar2024\",\"Apr2024\", \"May2024\", \"Jun2024\", \"Jul2024\", \"Aug2024\", \"Sep2024\", \"Oct2024\", \"Nov2024\", \"Dec2024\"]\n",
    "result = pd.DataFrame({\"Country\": [paese]*12, \n",
    "                       \"Product\": [prod] *12,\n",
    "                       \"Month\": records,\n",
    "                       \"Quantity\": predictions})\n"
   ]
  },
  {
   "cell_type": "code",
   "execution_count": null,
   "id": "c23cb5f7",
   "metadata": {},
   "outputs": [],
   "source": [
    "from sklearn import tree\n",
    "\n",
    "# DataFrame finale vuoto\n",
    "final_result = pd.DataFrame()\n",
    "\n",
    "for country in unique_countries:\n",
    "    for prod in unique_prods:\n",
    "        # Estrazione dei dati per paese e prodotto\n",
    "        temp = separate_single_timeseries(dataframe, country, prod)\n",
    "        t_stamps = range(1, 241)\n",
    "        reduced_dataset = separate_single_timeseries(dataframe, country, prod)\n",
    "        reduced_dataset[\"t_stamp\"] = range(1, 241)\n",
    "\n",
    "        # Preparazione dei dati per il modello\n",
    "        x_train = reduced_dataset[\"t_stamp\"].to_numpy().reshape(-1, 1)  # shape: (240, 1)\n",
    "        y_train = reduced_dataset[\"Quantity\"].to_numpy()                # shape: (240,)\n",
    "\n",
    "        # Previsioni per i 12 mesi successivi\n",
    "        x_pred = np.array(range(241, 241 + 12)).reshape(-1, 1)          # shape: (12, 1)\n",
    "\n",
    "        # Modello Decision Tree\n",
    "        d_tree = tree.DecisionTreeRegressor()\n",
    "        d_tree.fit(x_train, y_train)\n",
    "\n",
    "        # Previsioni\n",
    "        predictions = d_tree.predict(x_pred)\n",
    "\n",
    "        # Mesi successivi (12 mesi)\n",
    "        records = [\"Jan2024\", \"Feb2024\", \"Mar2024\", \"Apr2024\", \"May2024\", \"Jun2024\", \"Jul2024\", \"Aug2024\", \"Sep2024\", \"Oct2024\", \"Nov2024\", \"Dec2024\"]\n",
    "\n",
    "        # Crea un DataFrame per questo paese e prodotto\n",
    "        result = pd.DataFrame({\"Country\": [country]*12, \n",
    "                               \"Product\": [prod] *12,\n",
    "                               \"Month\": records,\n",
    "                               \"Quantity\": predictions})\n",
    "\n",
    "        # Aggiungi il risultato al DataFrame finale\n",
    "        final_result = pd.concat([final_result, result], ignore_index=True)\n"
   ]
  },
  {
   "cell_type": "code",
   "execution_count": 28,
   "id": "243e7b62",
   "metadata": {},
   "outputs": [
    {
     "data": {
      "application/vnd.microsoft.datawrangler.viewer.v0+json": {
       "columns": [
        {
         "name": "index",
         "rawType": "int64",
         "type": "integer"
        },
        {
         "name": "Country",
         "rawType": "object",
         "type": "string"
        },
        {
         "name": "Product",
         "rawType": "object",
         "type": "string"
        },
        {
         "name": "Month",
         "rawType": "object",
         "type": "string"
        },
        {
         "name": "Quantity",
         "rawType": "float64",
         "type": "float"
        }
       ],
       "conversionMethod": "pd.DataFrame",
       "ref": "1606c581-49ec-46a2-a3f2-57066cf694aa",
       "rows": [
        [
         "0",
         "Japan",
         "MorningMint",
         "Jan2024",
         "0.0"
        ],
        [
         "1",
         "Japan",
         "MorningMint",
         "Feb2024",
         "0.0"
        ],
        [
         "2",
         "Japan",
         "MorningMint",
         "Mar2024",
         "0.0"
        ],
        [
         "3",
         "Japan",
         "MorningMint",
         "Apr2024",
         "0.0"
        ],
        [
         "4",
         "Japan",
         "MorningMint",
         "May2024",
         "0.0"
        ],
        [
         "5",
         "Japan",
         "MorningMint",
         "Jun2024",
         "0.0"
        ],
        [
         "6",
         "Japan",
         "MorningMint",
         "Jul2024",
         "0.0"
        ],
        [
         "7",
         "Japan",
         "MorningMint",
         "Aug2024",
         "0.0"
        ],
        [
         "8",
         "Japan",
         "MorningMint",
         "Sep2024",
         "0.0"
        ],
        [
         "9",
         "Japan",
         "MorningMint",
         "Oct2024",
         "0.0"
        ],
        [
         "10",
         "Japan",
         "MorningMint",
         "Nov2024",
         "0.0"
        ],
        [
         "11",
         "Japan",
         "MorningMint",
         "Dec2024",
         "0.0"
        ],
        [
         "12",
         "Japan",
         "FreshStart Toothpaste",
         "Jan2024",
         "1408.0"
        ],
        [
         "13",
         "Japan",
         "FreshStart Toothpaste",
         "Feb2024",
         "1408.0"
        ],
        [
         "14",
         "Japan",
         "FreshStart Toothpaste",
         "Mar2024",
         "1408.0"
        ],
        [
         "15",
         "Japan",
         "FreshStart Toothpaste",
         "Apr2024",
         "1408.0"
        ],
        [
         "16",
         "Japan",
         "FreshStart Toothpaste",
         "May2024",
         "1408.0"
        ],
        [
         "17",
         "Japan",
         "FreshStart Toothpaste",
         "Jun2024",
         "1408.0"
        ],
        [
         "18",
         "Japan",
         "FreshStart Toothpaste",
         "Jul2024",
         "1408.0"
        ],
        [
         "19",
         "Japan",
         "FreshStart Toothpaste",
         "Aug2024",
         "1408.0"
        ],
        [
         "20",
         "Japan",
         "FreshStart Toothpaste",
         "Sep2024",
         "1408.0"
        ],
        [
         "21",
         "Japan",
         "FreshStart Toothpaste",
         "Oct2024",
         "1408.0"
        ],
        [
         "22",
         "Japan",
         "FreshStart Toothpaste",
         "Nov2024",
         "1408.0"
        ],
        [
         "23",
         "Japan",
         "FreshStart Toothpaste",
         "Dec2024",
         "1408.0"
        ],
        [
         "24",
         "Japan",
         "SmileShield Whitening Strips",
         "Jan2024",
         "0.0"
        ],
        [
         "25",
         "Japan",
         "SmileShield Whitening Strips",
         "Feb2024",
         "0.0"
        ],
        [
         "26",
         "Japan",
         "SmileShield Whitening Strips",
         "Mar2024",
         "0.0"
        ],
        [
         "27",
         "Japan",
         "SmileShield Whitening Strips",
         "Apr2024",
         "0.0"
        ],
        [
         "28",
         "Japan",
         "SmileShield Whitening Strips",
         "May2024",
         "0.0"
        ],
        [
         "29",
         "Japan",
         "SmileShield Whitening Strips",
         "Jun2024",
         "0.0"
        ],
        [
         "30",
         "Japan",
         "SmileShield Whitening Strips",
         "Jul2024",
         "0.0"
        ],
        [
         "31",
         "Japan",
         "SmileShield Whitening Strips",
         "Aug2024",
         "0.0"
        ],
        [
         "32",
         "Japan",
         "SmileShield Whitening Strips",
         "Sep2024",
         "0.0"
        ],
        [
         "33",
         "Japan",
         "SmileShield Whitening Strips",
         "Oct2024",
         "0.0"
        ],
        [
         "34",
         "Japan",
         "SmileShield Whitening Strips",
         "Nov2024",
         "0.0"
        ],
        [
         "35",
         "Japan",
         "SmileShield Whitening Strips",
         "Dec2024",
         "0.0"
        ],
        [
         "36",
         "Japan",
         "BriteBite Toothbrush",
         "Jan2024",
         "823.0"
        ],
        [
         "37",
         "Japan",
         "BriteBite Toothbrush",
         "Feb2024",
         "823.0"
        ],
        [
         "38",
         "Japan",
         "BriteBite Toothbrush",
         "Mar2024",
         "823.0"
        ],
        [
         "39",
         "Japan",
         "BriteBite Toothbrush",
         "Apr2024",
         "823.0"
        ],
        [
         "40",
         "Japan",
         "BriteBite Toothbrush",
         "May2024",
         "823.0"
        ],
        [
         "41",
         "Japan",
         "BriteBite Toothbrush",
         "Jun2024",
         "823.0"
        ],
        [
         "42",
         "Japan",
         "BriteBite Toothbrush",
         "Jul2024",
         "823.0"
        ],
        [
         "43",
         "Japan",
         "BriteBite Toothbrush",
         "Aug2024",
         "823.0"
        ],
        [
         "44",
         "Japan",
         "BriteBite Toothbrush",
         "Sep2024",
         "823.0"
        ],
        [
         "45",
         "Japan",
         "BriteBite Toothbrush",
         "Oct2024",
         "823.0"
        ],
        [
         "46",
         "Japan",
         "BriteBite Toothbrush",
         "Nov2024",
         "823.0"
        ],
        [
         "47",
         "Japan",
         "BriteBite Toothbrush",
         "Dec2024",
         "823.0"
        ],
        [
         "48",
         "Japan",
         "LuminousLip Care",
         "Jan2024",
         "0.0"
        ],
        [
         "49",
         "Japan",
         "LuminousLip Care",
         "Feb2024",
         "0.0"
        ]
       ],
       "shape": {
        "columns": 4,
        "rows": 12000
       }
      },
      "text/html": [
       "<div>\n",
       "<style scoped>\n",
       "    .dataframe tbody tr th:only-of-type {\n",
       "        vertical-align: middle;\n",
       "    }\n",
       "\n",
       "    .dataframe tbody tr th {\n",
       "        vertical-align: top;\n",
       "    }\n",
       "\n",
       "    .dataframe thead th {\n",
       "        text-align: right;\n",
       "    }\n",
       "</style>\n",
       "<table border=\"1\" class=\"dataframe\">\n",
       "  <thead>\n",
       "    <tr style=\"text-align: right;\">\n",
       "      <th></th>\n",
       "      <th>Country</th>\n",
       "      <th>Product</th>\n",
       "      <th>Month</th>\n",
       "      <th>Quantity</th>\n",
       "    </tr>\n",
       "  </thead>\n",
       "  <tbody>\n",
       "    <tr>\n",
       "      <th>0</th>\n",
       "      <td>Japan</td>\n",
       "      <td>MorningMint</td>\n",
       "      <td>Jan2024</td>\n",
       "      <td>0.0</td>\n",
       "    </tr>\n",
       "    <tr>\n",
       "      <th>1</th>\n",
       "      <td>Japan</td>\n",
       "      <td>MorningMint</td>\n",
       "      <td>Feb2024</td>\n",
       "      <td>0.0</td>\n",
       "    </tr>\n",
       "    <tr>\n",
       "      <th>2</th>\n",
       "      <td>Japan</td>\n",
       "      <td>MorningMint</td>\n",
       "      <td>Mar2024</td>\n",
       "      <td>0.0</td>\n",
       "    </tr>\n",
       "    <tr>\n",
       "      <th>3</th>\n",
       "      <td>Japan</td>\n",
       "      <td>MorningMint</td>\n",
       "      <td>Apr2024</td>\n",
       "      <td>0.0</td>\n",
       "    </tr>\n",
       "    <tr>\n",
       "      <th>4</th>\n",
       "      <td>Japan</td>\n",
       "      <td>MorningMint</td>\n",
       "      <td>May2024</td>\n",
       "      <td>0.0</td>\n",
       "    </tr>\n",
       "    <tr>\n",
       "      <th>...</th>\n",
       "      <td>...</td>\n",
       "      <td>...</td>\n",
       "      <td>...</td>\n",
       "      <td>...</td>\n",
       "    </tr>\n",
       "    <tr>\n",
       "      <th>11995</th>\n",
       "      <td>Russia</td>\n",
       "      <td>HydratingHoney Pet Wipes</td>\n",
       "      <td>Aug2024</td>\n",
       "      <td>0.0</td>\n",
       "    </tr>\n",
       "    <tr>\n",
       "      <th>11996</th>\n",
       "      <td>Russia</td>\n",
       "      <td>HydratingHoney Pet Wipes</td>\n",
       "      <td>Sep2024</td>\n",
       "      <td>0.0</td>\n",
       "    </tr>\n",
       "    <tr>\n",
       "      <th>11997</th>\n",
       "      <td>Russia</td>\n",
       "      <td>HydratingHoney Pet Wipes</td>\n",
       "      <td>Oct2024</td>\n",
       "      <td>0.0</td>\n",
       "    </tr>\n",
       "    <tr>\n",
       "      <th>11998</th>\n",
       "      <td>Russia</td>\n",
       "      <td>HydratingHoney Pet Wipes</td>\n",
       "      <td>Nov2024</td>\n",
       "      <td>0.0</td>\n",
       "    </tr>\n",
       "    <tr>\n",
       "      <th>11999</th>\n",
       "      <td>Russia</td>\n",
       "      <td>HydratingHoney Pet Wipes</td>\n",
       "      <td>Dec2024</td>\n",
       "      <td>0.0</td>\n",
       "    </tr>\n",
       "  </tbody>\n",
       "</table>\n",
       "<p>12000 rows × 4 columns</p>\n",
       "</div>"
      ],
      "text/plain": [
       "      Country                   Product    Month  Quantity\n",
       "0       Japan               MorningMint  Jan2024       0.0\n",
       "1       Japan               MorningMint  Feb2024       0.0\n",
       "2       Japan               MorningMint  Mar2024       0.0\n",
       "3       Japan               MorningMint  Apr2024       0.0\n",
       "4       Japan               MorningMint  May2024       0.0\n",
       "...       ...                       ...      ...       ...\n",
       "11995  Russia  HydratingHoney Pet Wipes  Aug2024       0.0\n",
       "11996  Russia  HydratingHoney Pet Wipes  Sep2024       0.0\n",
       "11997  Russia  HydratingHoney Pet Wipes  Oct2024       0.0\n",
       "11998  Russia  HydratingHoney Pet Wipes  Nov2024       0.0\n",
       "11999  Russia  HydratingHoney Pet Wipes  Dec2024       0.0\n",
       "\n",
       "[12000 rows x 4 columns]"
      ]
     },
     "execution_count": 28,
     "metadata": {},
     "output_type": "execute_result"
    }
   ],
   "source": [
    "final_result"
   ]
  },
  {
   "cell_type": "code",
   "execution_count": 30,
   "id": "330d8b3a",
   "metadata": {},
   "outputs": [],
   "source": [
    "final_result.to_csv('intermediate_result_dtree.csv', index=False)"
   ]
  },
  {
   "cell_type": "code",
   "execution_count": 31,
   "id": "09d85301",
   "metadata": {},
   "outputs": [],
   "source": [
    "from sklearn.ensemble import RandomForestRegressor\n",
    "\n",
    "# DataFrame finale vuoto\n",
    "final_result = pd.DataFrame()\n",
    "\n",
    "for country in unique_countries:\n",
    "    for prod in unique_prods:\n",
    "        # Estrazione dei dati per paese e prodotto\n",
    "        temp = separate_single_timeseries(dataframe, country, prod)\n",
    "        t_stamps = range(1, 241)\n",
    "        reduced_dataset = separate_single_timeseries(dataframe, country, prod)\n",
    "        reduced_dataset[\"t_stamp\"] = range(1, 241)\n",
    "\n",
    "        # Preparazione dei dati per il modello\n",
    "        x_train = reduced_dataset[\"t_stamp\"].to_numpy().reshape(-1, 1)  # shape: (240, 1)\n",
    "        y_train = reduced_dataset[\"Quantity\"].to_numpy()                # shape: (240,)\n",
    "\n",
    "        # Previsioni per i 12 mesi successivi\n",
    "        x_pred = np.array(range(241, 241 + 12)).reshape(-1, 1)          # shape: (12, 1)\n",
    "\n",
    "        # Modello Random Forest Regressor\n",
    "        rf_model = RandomForestRegressor(n_estimators=100, random_state=42)  # n_estimators=100 è il numero di alberi nel bosco\n",
    "        rf_model.fit(x_train, y_train)\n",
    "\n",
    "        # Previsioni\n",
    "        predictions = rf_model.predict(x_pred)\n",
    "\n",
    "        # Mesi successivi (12 mesi)\n",
    "        records = [\"Jan2024\", \"Feb2024\", \"Mar2024\", \"Apr2024\", \"May2024\", \"Jun2024\", \"Jul2024\", \"Aug2024\", \"Sep2024\", \"Oct2024\", \"Nov2024\", \"Dec2024\"]\n",
    "\n",
    "        # Crea un DataFrame per questo paese e prodotto\n",
    "        result = pd.DataFrame({\"Country\": [country]*12, \n",
    "                               \"Product\": [prod] *12,\n",
    "                               \"Month\": records,\n",
    "                               \"Quantity\": predictions})\n",
    "\n",
    "        # Aggiungi il risultato al DataFrame finale\n",
    "        final_result = pd.concat([final_result, result], ignore_index=True)\n",
    "final_result.to_csv('intermediate_result_rforest.csv', index=False)"
   ]
  }
 ],
 "metadata": {
  "kernelspec": {
   "display_name": "Python 3",
   "language": "python",
   "name": "python3"
  },
  "language_info": {
   "codemirror_mode": {
    "name": "ipython",
    "version": 3
   },
   "file_extension": ".py",
   "mimetype": "text/x-python",
   "name": "python",
   "nbconvert_exporter": "python",
   "pygments_lexer": "ipython3",
   "version": "3.12.4"
  }
 },
 "nbformat": 4,
 "nbformat_minor": 5
}
