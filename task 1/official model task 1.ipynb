{
 "cells": [
  {
   "cell_type": "code",
   "execution_count": 93,
   "id": "4d863ce9",
   "metadata": {},
   "outputs": [],
   "source": [
    "import pandas as pd\n",
    "import numpy as np\n",
    "import math\n",
    "from sklearn.linear_model import LinearRegression\n",
    "from sklearn.ensemble import RandomForestRegressor"
   ]
  },
  {
   "cell_type": "code",
   "execution_count": 1,
   "id": "b19a2636",
   "metadata": {},
   "outputs": [],
   "source": [
    "def separate_single_timeseries(df, paese, prodotto):\n",
    "    filtrato = df[(df['Country'] == paese) & (df['Product'] == prodotto)]\n",
    "    filtrato = filtrato.copy()\n",
    "    return filtrato\n",
    "\n",
    "def drop_leading_zeros(df):\n",
    "    \"\"\"\n",
    "    Rimuove tutte le righe iniziali del DataFrame finché 'Quantity' == 0.\n",
    "    Restituisce il DataFrame a partire dal primo valore diverso da zero.\n",
    "    \"\"\"\n",
    "    first_nonzero_idx = df[df[\"Quantity\"] != 0].first_valid_index()\n",
    "    if first_nonzero_idx is not None:\n",
    "        return df.loc[first_nonzero_idx:].reset_index(drop=True)\n",
    "    else:\n",
    "        return pd.DataFrame(columns=df.columns)\n",
    "\n",
    "def ultimi_n_zeri(y, n = 5):\n",
    "    y = y.reshape(-1)\n",
    "    return (y[-n:] == 0).all()\n",
    "\n",
    "def my_test_train_split(x, y, last_n_values = 12):\n",
    "    x_train = x[:-last_n_values]\n",
    "    x_test = x[-last_n_values:]\n",
    "    y_train = y[:-last_n_values]\n",
    "    y_test = y[-last_n_values:]\n",
    "\n",
    "    return x_train, y_train, x_test, y_test"
   ]
  },
  {
   "cell_type": "code",
   "execution_count": 2,
   "id": "fabee7b7",
   "metadata": {},
   "outputs": [],
   "source": [
    "from scipy.signal import periodogram\n",
    "\n",
    "def indice_periodicita_spettrale(serie):\n",
    "    f, Pxx = periodogram(serie)\n",
    "    Pxx = Pxx[1:]  # Escludi la frequenza 0\n",
    "    if np.sum(Pxx) == 0:\n",
    "        return 0\n",
    "    return np.max(Pxx) / np.sum(Pxx)\n",
    "\n",
    "\n",
    "def period_by_frekko(y, k):\n",
    "    periods = []\n",
    "    losses = []\n",
    "\n",
    "    for k_val in k:\n",
    "\n",
    "        li = 0\n",
    "        for i in range(k_val, len(y)):\n",
    "            correction = 1 if y[i] == 0 else 0\n",
    "            li+=(y[i]-y[i-k_val])**2/(y[i]+ correction)\n",
    "\n",
    "        loss = 1/(len(y)-k_val) * li\n",
    "\n",
    "        losses.append(loss)\n",
    "        periods.append(k_val)\n",
    "\n",
    "    min_i = 0\n",
    "    min_loss = losses[0]\n",
    "    for i in range(1, len(periods)):\n",
    "        if losses[i] < min_loss:\n",
    "            min_i = i\n",
    "            min_loss = losses[i]\n",
    "    return min_i, min_loss"
   ]
  },
  {
   "cell_type": "code",
   "execution_count": 56,
   "id": "430803d9",
   "metadata": {},
   "outputs": [],
   "source": [
    "def probability(target_year, actual_year):\n",
    "    return 1/(target_year - actual_year)**2\n",
    "\n",
    "def prediction_w_avg(df):\n",
    "    pred = []\n",
    "    years = [i for i in range (2004, 2023)]\n",
    "    for month in [\"Jan\", \"Feb\", \"Mar\", \"Apr\", \"May\", \"Jun\", \"Jul\", \"Aug\", \"Sep\", \"Oct\", \"Nov\", \"Dec\"]:\n",
    "        y_p = 0\n",
    "        sum_p = 0\n",
    "        for y in years:\n",
    "            quantities = df.loc[((df[\"Month\"] == f\"{month}{y}\")), [\"Quantity\"]]\n",
    "            try:\n",
    "                y_p = y_p + probability(2024, y)*quantities[\"Quantity\"].iloc[0] if quantities[\"Quantity\"].iloc[0] != 0 else y_p\n",
    "                sum_p = sum_p + probability(2024, y) if quantities[\"Quantity\"].iloc[0] != 0 else sum_p\n",
    "            except:\n",
    "                y_p += 0\n",
    "                sum_p += 0\n",
    "        \n",
    "        y_p = y_p/sum_p if sum_p != 0 else y_p\n",
    "        \n",
    "        pred.append(int(y_p))\n",
    "    return pred"
   ]
  },
  {
   "cell_type": "code",
   "execution_count": 77,
   "id": "dfbead62",
   "metadata": {},
   "outputs": [],
   "source": [
    "dataframe = pd.read_csv(r\"data\\01_input_history.csv\")\n",
    "unique_countries = dataframe[\"Country\"].unique()\n",
    "unique_prods = dataframe[\"Product\"].unique()"
   ]
  },
  {
   "cell_type": "code",
   "execution_count": 3,
   "id": "10ffbbdf",
   "metadata": {},
   "outputs": [],
   "source": [
    "# divido il dataset per country e prodotto\n",
    "# pulizia 0 iniziali\n",
    "# check su peiodicità\n",
    "# se periodico ---> stima prossimi picchi\n",
    "# altrimenti ----> check su ultimi 0 e regressione lineare"
   ]
  },
  {
   "cell_type": "code",
   "execution_count": 99,
   "id": "c3099b3f",
   "metadata": {},
   "outputs": [],
   "source": [
    "def geo_w(i, N, k):\n",
    "    return 1/(N//k - i + 1)\n",
    "\n",
    "def model(df, my_model, threshold_periodicity = 0.8, periods_k = [i for i in range(1, 13)], forecast_steps = 12):\n",
    "    df = drop_leading_zeros(df)\n",
    "    N = len(df)\n",
    "    y = df[\"Quantity\"].values\n",
    "    \n",
    "    p_index = indice_periodicita_spettrale(y)\n",
    "\n",
    "    period, periodicity_loss = period_by_frekko(y, periods_k)\n",
    "    period += 1\n",
    "    if periodicity_loss < threshold_periodicity:\n",
    "    #if p_index < 0.35:\n",
    "\n",
    "        if ultimi_n_zeri(y, period*2):\n",
    "            predictions = [0 for _ in range(0, forecast_steps)]\n",
    "        else:\n",
    "            predictions = []\n",
    "            den = sum([geo_w(j, N, period) for j in range(0, N//period)])\n",
    "            for i in range(0, forecast_steps):\n",
    "                num = sum([y[N+i-forecast_steps- period*j] * geo_w(j, N, period) for j in range(0, N//period)])\n",
    "                predictions.append(num/den)\n",
    "    else:\n",
    "        if ultimi_n_zeri(y, 6):\n",
    "            predictions = [0 for i in range(0, forecast_steps)]\n",
    "        else:\n",
    "            x = np.array([i for i in range(0, N)]).reshape(-1, 1)\n",
    "            x_pred = np.array([i for i in range(N, N+forecast_steps)]).reshape(-1, 1)\n",
    "            \n",
    "            # my_model.fit(x, y)\n",
    "            # predictions = my_model.predict(x_pred)\n",
    "\n",
    "            predictions = prediction_w_avg(df)\n",
    "\n",
    "            linreg = LinearRegression()\n",
    "            linreg.fit(x[-24:], y[-24:])\n",
    "\n",
    "            boost_param = linreg.coef_[0]\n",
    "\n",
    "            new_predictions = []\n",
    "            for pred in predictions:\n",
    "                if boost_param >= 0:\n",
    "                    new_predictions.append(pred * (1+ min(0.1 , abs(boost_param))))\n",
    "                else:\n",
    "                    new_predictions.append(pred * (1+ (-1) * min(0.1 , abs(boost_param))))\n",
    "                \n",
    "\n",
    "            \n",
    "            predictions = new_predictions\n",
    "\n",
    "    \n",
    "    return predictions"
   ]
  },
  {
   "cell_type": "code",
   "execution_count": 47,
   "id": "12239b0b",
   "metadata": {},
   "outputs": [],
   "source": [
    "\n",
    "prod = \"OralEase Plus Toothbrush\"\n",
    "paese = \"India\"\n",
    "\n",
    "reduced_dataset = separate_single_timeseries(dataframe, paese, prod)\n",
    "reduced_dataset = drop_leading_zeros(reduced_dataset)\n",
    "\n",
    "my_model = RandomForestRegressor(n_estimators=100, random_state=404, criterion=\"squared_error\")\n",
    "\n",
    "predictions = model(reduced_dataset, my_model)"
   ]
  },
  {
   "cell_type": "code",
   "execution_count": 48,
   "id": "bfdd2bc5",
   "metadata": {},
   "outputs": [
    {
     "data": {
      "image/png": "[encoded data removed]",
      "text/plain": [
       "<Figure size 640x480 with 1 Axes>"
      ]
     },
     "metadata": {},
     "output_type": "display_data"
    }
   ],
   "source": [
    "from matplotlib import pyplot as plt\n",
    "plt.plot([i for i in range (12)], predictions)\n",
    "plt.show()"
   ]
  },
  {
   "cell_type": "code",
   "execution_count": 100,
   "id": "1d37ebec",
   "metadata": {},
   "outputs": [],
   "source": [
    "validation_x = [\"Jan2023\", \"Feb2023\", \"Mar2023\", \"Apr2023\", \"May2023\", \"Jun2023\", \"Jul2023\", \"Aug2023\", \"Sep2023\", \"Oct2023\", \"Nov2023\", \"Dec2023\"]\n",
    "\n",
    "df_train = pd.read_csv(r\"data/01_input_history.csv\")\n",
    "df_train = df_train.loc[df_train[\"Month\"].apply(lambda x : x[3:]) != 2023]\n",
    "\n",
    "\n",
    "final_result = pd.DataFrame()\n",
    "\n",
    "for country in unique_countries:\n",
    "    for product in unique_prods:\n",
    "\n",
    "        reduced_dataset = separate_single_timeseries(df_train, country, product)\n",
    "        reduced_dataset = drop_leading_zeros(reduced_dataset)\n",
    "\n",
    "        my_model = RandomForestRegressor(n_estimators=100, random_state=404, criterion=\"squared_error\")\n",
    "\n",
    "        predictions = model(reduced_dataset, my_model)\n",
    "\n",
    "        result = pd.DataFrame({\"Country\": [country]*12, \n",
    "                                \"Product\": [product] *12,\n",
    "                                \"Month\": validation_x,\n",
    "                                \"Quantity\": predictions})\n",
    "        \n",
    "\n",
    "        final_result = pd.concat([final_result, result], ignore_index=True)\n",
    "\n",
    "\n",
    "final_result.to_csv(\"final_result.csv\", index=False)"
   ]
  },
  {
   "cell_type": "code",
   "execution_count": 85,
   "id": "07e93416",
   "metadata": {},
   "outputs": [],
   "source": [
    "dataframe = pd.read_csv(r\"data\\01_input_history.csv\")\n",
    "reference_validation = dataframe.loc[df_train[\"Month\"].apply(lambda x : int(x[-4:])) == 2023]\n",
    "\n",
    "reference_validation_renamed = reference_validation.rename(columns={\"Quantity\": \"quantity_ref\"})\n",
    "final_result_renamed = final_result.rename(columns={\"Quantity\": \"quantity_res\"})\n",
    "\n",
    "key_cols = [\"Country\", \"Product\", \"Month\"]\n",
    "merged = pd.merge(reference_validation_renamed, final_result_renamed, on=key_cols, how=\"outer\")"
   ]
  },
  {
   "cell_type": "code",
   "execution_count": 88,
   "id": "a06b7d7d",
   "metadata": {},
   "outputs": [],
   "source": [
    "merged[\"error\"] = merged[\"quantity_ref\"] - merged[\"quantity_res\"]"
   ]
  },
  {
   "cell_type": "code",
   "execution_count": 92,
   "id": "a5e14174",
   "metadata": {},
   "outputs": [
    {
     "data": {
      "application/vnd.microsoft.datawrangler.viewer.v0+json": {
       "columns": [
        {
         "name": "index",
         "rawType": "int64",
         "type": "integer"
        },
        {
         "name": "Country",
         "rawType": "object",
         "type": "string"
        },
        {
         "name": "Product",
         "rawType": "object",
         "type": "string"
        },
        {
         "name": "Month",
         "rawType": "object",
         "type": "string"
        },
        {
         "name": "quantity_ref",
         "rawType": "int64",
         "type": "integer"
        },
        {
         "name": "quantity_res",
         "rawType": "float64",
         "type": "float"
        },
        {
         "name": "error",
         "rawType": "float64",
         "type": "float"
        }
       ],
       "conversionMethod": "pd.DataFrame",
       "ref": "11420b51-a8a0-4c4a-8d3c-f602e99bad3a",
       "rows": [],
       "shape": {
        "columns": 6,
        "rows": 0
       }
      },
      "text/html": [
       "<div>\n",
       "<style scoped>\n",
       "    .dataframe tbody tr th:only-of-type {\n",
       "        vertical-align: middle;\n",
       "    }\n",
       "\n",
       "    .dataframe tbody tr th {\n",
       "        vertical-align: top;\n",
       "    }\n",
       "\n",
       "    .dataframe thead th {\n",
       "        text-align: right;\n",
       "    }\n",
       "</style>\n",
       "<table border=\"1\" class=\"dataframe\">\n",
       "  <thead>\n",
       "    <tr style=\"text-align: right;\">\n",
       "      <th></th>\n",
       "      <th>Country</th>\n",
       "      <th>Product</th>\n",
       "      <th>Month</th>\n",
       "      <th>quantity_ref</th>\n",
       "      <th>quantity_res</th>\n",
       "      <th>error</th>\n",
       "    </tr>\n",
       "  </thead>\n",
       "  <tbody>\n",
       "  </tbody>\n",
       "</table>\n",
       "</div>"
      ],
      "text/plain": [
       "Empty DataFrame\n",
       "Columns: [Country, Product, Month, quantity_ref, quantity_res, error]\n",
       "Index: []"
      ]
     },
     "execution_count": 92,
     "metadata": {},
     "output_type": "execute_result"
    }
   ],
   "source": [
    "merged.loc[(merged[\"quantity_ref\"] == 0) & (merged[\"error\"] != 0)]"
   ]
  },
  {
   "cell_type": "markdown",
   "id": "4606820d",
   "metadata": {},
   "source": [
    "---"
   ]
  },
  {
   "cell_type": "code",
   "execution_count": 101,
   "id": "28c2132a",
   "metadata": {},
   "outputs": [],
   "source": [
    "test_x = [\"Jan2024\", \"Feb2024\", \"Mar2024\", \"Apr2024\", \"May2024\", \"Jun2024\", \"Jul2024\", \"Aug2024\", \"Sep2024\", \"Oct2024\", \"Nov2024\", \"Dec2024\"]\n",
    "\n",
    "df_train = pd.read_csv(r\"data/01_input_history.csv\")\n",
    "\n",
    "final_result = pd.DataFrame()\n",
    "\n",
    "for country in unique_countries:\n",
    "    for product in unique_prods:\n",
    "\n",
    "        reduced_dataset = separate_single_timeseries(df_train, country, product)\n",
    "        reduced_dataset = drop_leading_zeros(reduced_dataset)\n",
    "\n",
    "        my_model = RandomForestRegressor(n_estimators=100, random_state=404, criterion=\"squared_error\")\n",
    "\n",
    "        predictions = model(reduced_dataset, my_model)\n",
    "\n",
    "        result = pd.DataFrame({\"Country\": [country]*12, \n",
    "                                \"Product\": [product] *12,\n",
    "                                \"Month\": test_x,\n",
    "                                \"Quantity\": predictions})\n",
    "        \n",
    "\n",
    "        final_result = pd.concat([final_result, result], ignore_index=True)\n",
    "\n",
    "\n",
    "final_result.to_csv(\"01_output_prediction_1522.csv\", index=False)"
   ]
  }
 ],
 "metadata": {
  "kernelspec": {
   "display_name": "Python 3",
   "language": "python",
   "name": "python3"
  },
  "language_info": {
   "codemirror_mode": {
    "name": "ipython",
    "version": 3
   },
   "file_extension": ".py",
   "mimetype": "text/x-python",
   "name": "python",
   "nbconvert_exporter": "python",
   "pygments_lexer": "ipython3",
   "version": "3.12.3"
  }
 },
 "nbformat": 4,
 "nbformat_minor": 5
}
