{
 "cells": [
  {
   "cell_type": "code",
   "execution_count": 16,
   "id": "4d863ce9",
   "metadata": {},
   "outputs": [],
   "source": [
    "import pandas as pd\n",
    "import numpy as np\n",
    "\n",
    "from sklearn.ensemble import RandomForestRegressor"
   ]
  },
  {
   "cell_type": "code",
   "execution_count": 1,
   "id": "b19a2636",
   "metadata": {},
   "outputs": [],
   "source": [
    "def separate_single_timeseries(df, paese, prodotto):\n",
    "    filtrato = df[(df['Country'] == paese) & (df['Product'] == prodotto)]\n",
    "    filtrato = filtrato.copy()\n",
    "    return filtrato\n",
    "\n",
    "def drop_leading_zeros(df):\n",
    "    \"\"\"\n",
    "    Rimuove tutte le righe iniziali del DataFrame finché 'Quantity' == 0.\n",
    "    Restituisce il DataFrame a partire dal primo valore diverso da zero.\n",
    "    \"\"\"\n",
    "    first_nonzero_idx = df[df[\"Quantity\"] != 0].first_valid_index()\n",
    "    if first_nonzero_idx is not None:\n",
    "        return df.loc[first_nonzero_idx:].reset_index(drop=True)\n",
    "    else:\n",
    "        return pd.DataFrame(columns=df.columns)\n",
    "\n",
    "def ultimi_n_zeri(y, n = 5):\n",
    "    y = y.reshape(-1)\n",
    "    return (y[-n:] == 0).all()\n",
    "\n",
    "def my_test_train_split(x, y, last_n_values = 12):\n",
    "    x_train = x[:-last_n_values]\n",
    "    x_test = x[-last_n_values:]\n",
    "    y_train = y[:-last_n_values]\n",
    "    y_test = y[-last_n_values:]\n",
    "\n",
    "    return x_train, y_train, x_test, y_test"
   ]
  },
  {
   "cell_type": "code",
   "execution_count": 2,
   "id": "fabee7b7",
   "metadata": {},
   "outputs": [],
   "source": [
    "from scipy.signal import periodogram\n",
    "\n",
    "def indice_periodicita_spettrale(serie):\n",
    "    f, Pxx = periodogram(serie)\n",
    "    Pxx = Pxx[1:]  # Escludi la frequenza 0\n",
    "    if np.sum(Pxx) == 0:\n",
    "        return 0\n",
    "    return np.max(Pxx) / np.sum(Pxx)\n",
    "\n",
    "\n",
    "def period_by_frekko(y, k):\n",
    "    periods = []\n",
    "    losses = []\n",
    "\n",
    "    for k_val in k:\n",
    "\n",
    "        li = 0\n",
    "        for i in range(k_val, len(y)):\n",
    "            correction = 1 if y[i] == 0 else 0\n",
    "            li+=(y[i]-y[i-k_val])**2/(y[i]+ correction)\n",
    "\n",
    "        loss = 1/(len(y)-k_val) * li\n",
    "\n",
    "        losses.append(loss)\n",
    "        periods.append(k_val)\n",
    "\n",
    "    min_i = 0\n",
    "    min_loss = losses[0]\n",
    "    for i in range(1, len(periods)):\n",
    "        if losses[i] < min_loss:\n",
    "            min_i = i\n",
    "            min_loss = losses[i]\n",
    "    return min_i, min_loss"
   ]
  },
  {
   "cell_type": "code",
   "execution_count": 6,
   "id": "dfbead62",
   "metadata": {},
   "outputs": [],
   "source": [
    "dataframe = pd.read_csv(r\"data\\01_input_history.csv\")\n",
    "unique_countries = dataframe[\"Country\"].unique()\n",
    "unique_prods = dataframe[\"Product\"].unique()"
   ]
  },
  {
   "cell_type": "code",
   "execution_count": 3,
   "id": "10ffbbdf",
   "metadata": {},
   "outputs": [],
   "source": [
    "# divido il dataset per country e prodotto\n",
    "# pulizia 0 iniziali\n",
    "# check su peiodicità\n",
    "# se periodico ---> stima prossimi picchi\n",
    "# altrimenti ----> check su ultimi 0 e regressione lineare"
   ]
  },
  {
   "cell_type": "code",
   "execution_count": null,
   "id": "c3099b3f",
   "metadata": {},
   "outputs": [],
   "source": [
    "def geo_w(i, N, k):\n",
    "    return 1/(N//k - i + 1)\n",
    "\n",
    "def model(df, my_model, threshold_periodicity = 0.8, periods_k = [i for i in range(1, 13)], forecast_steps = 12):\n",
    "    df = drop_leading_zeros(df)\n",
    "    N = len(df)\n",
    "    y = df[\"Quantity\"].values\n",
    "    print(y)\n",
    "    \n",
    "    period, periodicity_loss = period_by_frekko(y, periods_k)\n",
    "    period += 1\n",
    "    if periodicity_loss < threshold_periodicity:\n",
    "\n",
    "        if ultimi_n_zeri(y, period*2):\n",
    "            predictions = [0 for _ in range(0, forecast_steps)]\n",
    "        else:\n",
    "            predictions = []\n",
    "            den = sum([geo_w(j, N, forecast_steps) for j in range(0, N//period)])\n",
    "            for i in range(0, forecast_steps):\n",
    "                num = sum([y[N+i-period - period*j] * geo_w(j, N, period) for j in range(0, N//period)])\n",
    "                print(num)\n",
    "                predictions.append(num/den)\n",
    "    else:\n",
    "        if ultimi_n_zeri(y, 6):\n",
    "            predictions = [0 for i in range(0, forecast_steps)]\n",
    "        else:\n",
    "            x = [i for i in range(0, N)]\n",
    "            x_pred = [i for i in range(N, N+forecast_steps)]\n",
    "            my_model.fit(x, y)\n",
    "            predictions = my_model.predict(x_pred)\n",
    "    \n",
    "    return predictions"
   ]
  },
  {
   "cell_type": "code",
   "execution_count": 40,
   "id": "12239b0b",
   "metadata": {},
   "outputs": [
    {
     "name": "stdout",
     "output_type": "stream",
     "text": [
      "[400   0   0   0   0   0 375   0   0   0   0   0 378   0   0   0   0   0\n",
      " 371   0   0   0   0   0 370   0   0   0   0   0 378   0   0   0   0   0\n",
      " 356   0   0   0   0   0 364   0   0   0   0   0 379   0   0   0   0   0\n",
      " 379   0   0   0   0   0 389   0   0   0   0   0 403   0   0   0   0   0\n",
      " 380   0   0   0   0   0 354   0   0   0   0   0 340   0   0   0   0   0\n",
      " 367   0   0   0   0   0 362   0   0   0   0   0 388   0   0   0   0   0\n",
      " 366   0   0   0   0   0 367   0   0   0   0   0 388   0   0   0   0   0\n",
      " 361   0   0   0   0   0 384   0   0   0   0   0 371   0   0   0   0   0\n",
      " 358   0   0   0   0   0 375   0   0   0   0   0 370   0   0   0   0   0\n",
      " 401   0   0   0   0   0 368   0   0   0   0   0 371   0   0   0   0   0\n",
      " 369   0   0   0   0   0 354   0   0   0   0   0 355   0   0   0   0   0\n",
      " 375   0   0   0   0   0]\n",
      "1186.4921707920544\n",
      "0.0\n",
      "0.0\n",
      "0.0\n",
      "0.0\n",
      "0.0\n"
     ]
    },
    {
     "ename": "IndexError",
     "evalue": "index 204 is out of bounds for axis 0 with size 204",
     "output_type": "error",
     "traceback": [
      "\u001b[1;31m---------------------------------------------------------------------------\u001b[0m",
      "\u001b[1;31mIndexError\u001b[0m                                Traceback (most recent call last)",
      "Cell \u001b[1;32mIn[40], line 10\u001b[0m\n\u001b[0;32m      5\u001b[0m reduced_dataset \u001b[38;5;241m=\u001b[39m drop_leading_zeros(reduced_dataset)\n\u001b[0;32m      8\u001b[0m my_model \u001b[38;5;241m=\u001b[39m RandomForestRegressor(n_estimators\u001b[38;5;241m=\u001b[39m\u001b[38;5;241m100\u001b[39m, random_state\u001b[38;5;241m=\u001b[39m\u001b[38;5;241m404\u001b[39m, criterion\u001b[38;5;241m=\u001b[39m\u001b[38;5;124m\"\u001b[39m\u001b[38;5;124msquared_error\u001b[39m\u001b[38;5;124m\"\u001b[39m)\n\u001b[1;32m---> 10\u001b[0m predictions \u001b[38;5;241m=\u001b[39m \u001b[43mmodel\u001b[49m\u001b[43m(\u001b[49m\u001b[43mreduced_dataset\u001b[49m\u001b[43m,\u001b[49m\u001b[43m \u001b[49m\u001b[43mmy_model\u001b[49m\u001b[43m)\u001b[49m\n",
      "Cell \u001b[1;32mIn[39], line 20\u001b[0m, in \u001b[0;36mmodel\u001b[1;34m(df, my_model, threshold_periodicity, periods_k, forecast_steps)\u001b[0m\n\u001b[0;32m     18\u001b[0m den \u001b[38;5;241m=\u001b[39m \u001b[38;5;28msum\u001b[39m([geo_w(j, N, period) \u001b[38;5;28;01mfor\u001b[39;00m j \u001b[38;5;129;01min\u001b[39;00m \u001b[38;5;28mrange\u001b[39m(\u001b[38;5;241m0\u001b[39m, N\u001b[38;5;241m/\u001b[39m\u001b[38;5;241m/\u001b[39mperiod)])\n\u001b[0;32m     19\u001b[0m \u001b[38;5;28;01mfor\u001b[39;00m i \u001b[38;5;129;01min\u001b[39;00m \u001b[38;5;28mrange\u001b[39m(\u001b[38;5;241m0\u001b[39m, forecast_steps):\n\u001b[1;32m---> 20\u001b[0m     num \u001b[38;5;241m=\u001b[39m \u001b[38;5;28msum\u001b[39m([\u001b[43my\u001b[49m\u001b[43m[\u001b[49m\u001b[43mN\u001b[49m\u001b[38;5;241;43m+\u001b[39;49m\u001b[43mi\u001b[49m\u001b[38;5;241;43m-\u001b[39;49m\u001b[43mperiod\u001b[49m\u001b[43m \u001b[49m\u001b[38;5;241;43m-\u001b[39;49m\u001b[43m \u001b[49m\u001b[43mperiod\u001b[49m\u001b[38;5;241;43m*\u001b[39;49m\u001b[43mj\u001b[49m\u001b[43m]\u001b[49m \u001b[38;5;241m*\u001b[39m geo_w(j, N, period) \u001b[38;5;28;01mfor\u001b[39;00m j \u001b[38;5;129;01min\u001b[39;00m \u001b[38;5;28mrange\u001b[39m(\u001b[38;5;241m0\u001b[39m, N\u001b[38;5;241m/\u001b[39m\u001b[38;5;241m/\u001b[39mperiod)])\n\u001b[0;32m     21\u001b[0m     \u001b[38;5;28mprint\u001b[39m(num)\n\u001b[0;32m     22\u001b[0m     predictions\u001b[38;5;241m.\u001b[39mappend(num\u001b[38;5;241m/\u001b[39mden)\n",
      "\u001b[1;31mIndexError\u001b[0m: index 204 is out of bounds for axis 0 with size 204"
     ]
    }
   ],
   "source": [
    "\n",
    "prod = \"OralEase Plus Toothbrush\"\n",
    "paese = \"India\"\n",
    "\n",
    "reduced_dataset = separate_single_timeseries(dataframe, paese, prod)\n",
    "reduced_dataset = drop_leading_zeros(reduced_dataset)\n",
    "\n",
    "\n",
    "my_model = RandomForestRegressor(n_estimators=100, random_state=404, criterion=\"squared_error\")\n",
    "\n",
    "predictions = model(reduced_dataset, my_model)\n",
    "\n"
   ]
  },
  {
   "cell_type": "code",
   "execution_count": 36,
   "id": "bfdd2bc5",
   "metadata": {},
   "outputs": [
    {
     "data": {
      "image/png": "[encoded data removed]",
      "text/plain": [
       "<Figure size 640x480 with 1 Axes>"
      ]
     },
     "metadata": {},
     "output_type": "display_data"
    }
   ],
   "source": [
    "from matplotlib import pyplot as plt\n",
    "plt.plot([i for i in range (12)], predictions)\n",
    "plt.show()"
   ]
  }
 ],
 "metadata": {
  "kernelspec": {
   "display_name": "Python 3",
   "language": "python",
   "name": "python3"
  },
  "language_info": {
   "codemirror_mode": {
    "name": "ipython",
    "version": 3
   },
   "file_extension": ".py",
   "mimetype": "text/x-python",
   "name": "python",
   "nbconvert_exporter": "python",
   "pygments_lexer": "ipython3",
   "version": "3.12.4"
  }
 },
 "nbformat": 4,
 "nbformat_minor": 5
}
