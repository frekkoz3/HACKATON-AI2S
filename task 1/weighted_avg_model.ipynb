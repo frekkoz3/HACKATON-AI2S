{
 "cells": [
  {
   "cell_type": "code",
   "execution_count": 1,
   "metadata": {},
   "outputs": [],
   "source": [
    "import pandas as pd\n",
    "df = pd.read_csv('../data/01_input_history.csv')"
   ]
  },
  {
   "cell_type": "code",
   "execution_count": null,
   "metadata": {},
   "outputs": [],
   "source": [
    "def probability(target_year, actual_year):\n",
    "    return 1/(target_year - actual_year)\n",
    "\n",
    "def prediction(df, country, product):\n",
    "    pred = \"\"\n",
    "    years = [i for i in range (2004, 2024)]\n",
    "    for month in [\"Jan\", \"Feb\", \"Mar\", \"Apr\", \"May\", \"Jun\", \"Jul\", \"Aug\", \"Sep\", \"Oct\", \"Nov\", \"Dec\"]:\n",
    "        y_p = 0\n",
    "        sum_p = 0\n",
    "        for y in years:\n",
    "            quantities = df.loc[((df[\"Month\"] == f\"{month}{y}\")), [\"Quantity\"]]\n",
    "            try:\n",
    "                y_p = y_p + probability(2024, y)*quantities[\"Quantity\"].iloc[0] if quantities[\"Quantity\"].iloc[0] != 0 else y_p\n",
    "                sum_p = sum_p + probability(2024, y) if quantities[\"Quantity\"].iloc[0] != 0 else sum_p\n",
    "            except:\n",
    "                y_p += 0\n",
    "                sum_p += 0\n",
    "        \n",
    "        y_p = y_p/sum_p if sum_p != 0 else y_p\n",
    "        \n",
    "        pred += f\"{country},{product},{month}2024,{int(y_p)}\\n\"\n",
    "    return pred"
   ]
  },
  {
   "cell_type": "code",
   "execution_count": 51,
   "metadata": {},
   "outputs": [],
   "source": [
    "output = open(\"w_avg_model_out.csv\", \"w+\")\n",
    "output.write(\"Country,Product,Month,Quantity\\n\")\n",
    "countries = df[\"Country\"].unique()\n",
    "products = df[\"Product\"].unique()\n",
    "months = [\"Jan\", \"Feb\", \"Mar\", \"Apr\", \"May\", \"Jun\", \"Jul\", \"Aug\", \"Sep\", \"Oct\", \"Nov\", \"Dec\"]\n",
    "\n",
    "for c in countries:\n",
    "    for p in products:\n",
    "            actual_df = df.loc[((df[\"Country\"] == c) & (df[\"Product\"] == p)), [\"Month\", \"Quantity\"]]\n",
    "            output.write(prediction(actual_df, c, p))\n",
    "\n",
    "output.close() # SCORE 940"
   ]
  }
 ],
 "metadata": {
  "kernelspec": {
   "display_name": "Python 3",
   "language": "python",
   "name": "python3"
  },
  "language_info": {
   "codemirror_mode": {
    "name": "ipython",
    "version": 3
   },
   "file_extension": ".py",
   "mimetype": "text/x-python",
   "name": "python",
   "nbconvert_exporter": "python",
   "pygments_lexer": "ipython3",
   "version": "3.12.3"
  }
 },
 "nbformat": 4,
 "nbformat_minor": 2
}
